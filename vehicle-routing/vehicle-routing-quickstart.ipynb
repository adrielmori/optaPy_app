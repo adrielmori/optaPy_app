{
 "cells": [
  {
   "cell_type": "markdown",
   "id": "fb58a9af",
   "metadata": {
    "pycharm": {
     "name": "#%% md\n"
    },
    "tags": []
   },
   "source": [
    "# OptaPy - OptaPlanner in Python\n",
    "\n",
    "\n",
    "OptaPy is an **AI constraint solver for Python** to optimize the Vehicle Routing Problem, Employee Rostering, Maintenance Scheduling, Task Assignment, School Timetabling, Cloud Optimization, Conference Scheduling, Job Shop Scheduling, Bin Packing and many more planning problems.\n",
    "\n",
    "OptaPy wraps the [OptaPlanner](https://www.optaplanner.org/) engine internally, but using OptaPy in Python is significantly slower than using OptaPlanner in Java or Kotlin.\n",
    "\n",
    "\n",
    "WARNING:  OptaPy is an experimental technology. It is at least 20 times slower than using OptaPlanner in Java or Kotlin.\n",
    "\n",
    "## What is OptaPlanner?\n",
    "\n",
    "OptaPlanner is an AI constraint solver. It optimizes planning and scheduling problems, such as the Vehicle Routing Problem, Employee Rostering, Maintenance Scheduling, Task Assignment, School Timetabling, Cloud Optimization, Conference Scheduling, Job Shop Scheduling, Bin Packing and many more. Every organization faces such challenges: assign a limited set of constrained resources (employees, assets, time and/or money) to provide products or services. OptaPlanner delivers more efficient plans, which reduce costs and improve service quality.\n",
    "\n",
    "Constraints apply on plain domain objects and can call existing code. There’s no need to input constraints as mathematical equations. Under the hood, OptaPlanner combines sophisticated Artificial Intelligence optimization algorithms (such as Tabu Search, Simulated Annealing, Late Acceptance and other metaheuristics) with very efficient score calculation and other state-of-the-art constraint solving techniques.\n",
    "\n",
    "## Vehicle Routing Quickstart\n",
    "\n",
    "### Model the domain objects and constraints\n",
    "\n",
    "Using a fleet of vehicles, pick up the objects of each customer and bring them to the depot. Each vehicle can service multiple customers, but it has a limited capacity.\n",
    "\n",
    "#### Problem Facts\n",
    "\n",
    "Problem facts are facts about the problem. As such, they do not change during solving (and thus cannot have any planning variables). For Vehicle Routing, the problem facts are the locations a vehicle can visit, the depots, and the customers to visit:"
   ]
  },
  {
   "cell_type": "code",
   "execution_count": 1,
   "id": "5afc0705",
   "metadata": {
    "pycharm": {
     "name": "#%%\n"
    }
   },
   "outputs": [],
   "source": [
    "from optapy import problem_fact\n",
    "\n",
    "@problem_fact\n",
    "class Location:\n",
    "    def __init__(self, latitude, longitude, distance_map=None):\n",
    "        self.latitude = latitude\n",
    "        self.longitude = longitude\n",
    "        self.distance_map = distance_map\n",
    "\n",
    "    def set_distance_map(self, distance_map):\n",
    "        self.distance_map = distance_map\n",
    "\n",
    "    def get_distance_to(self, location):\n",
    "        return self.distance_map[location]\n",
    "\n",
    "    def get_angle(self, location):\n",
    "        latitude_difference = location.latitude - self.latitude\n",
    "        longitude_difference = location.longitude - self.longitude\n",
    "        return math.atan2(latitude_difference, longitude_difference)\n",
    "\n",
    "    def to_lat_long_tuple(self):\n",
    "        return (\n",
    "            self.latitude,\n",
    "            self.longitude\n",
    "        )\n",
    "\n",
    "    def __str__(self):\n",
    "        return f'[{self.latitude}, {self.longitude}]'\n"
   ]
  },
  {
   "cell_type": "markdown",
   "id": "c5d97f25",
   "metadata": {
    "pycharm": {
     "name": "#%% md\n"
    }
   },
   "source": [
    "A location is composed of its latitude and longitude. It distance to other locations is stored in a distance map, which is populated by a distance calculator:"
   ]
  },
  {
   "cell_type": "code",
   "execution_count": 2,
   "id": "3a197036",
   "metadata": {
    "pycharm": {
     "name": "#%%\n"
    }
   },
   "outputs": [],
   "source": [
    "import math\n",
    "\n",
    "@problem_fact\n",
    "class EuclideanDistanceCalculator:\n",
    "    METERS_PER_DEGREE = 111_000\n",
    "    \n",
    "    def __init__(self):\n",
    "        pass\n",
    "\n",
    "    def calculate_distance(self, start, end):\n",
    "        if start == end:\n",
    "            return 0\n",
    "        latitude_diff = end.latitude - start.latitude\n",
    "        longitude_diff = end.longitude - start.longitude\n",
    "        return math.ceil(math.sqrt(latitude_diff * latitude_diff + longitude_diff * longitude_diff) *\n",
    "                         EuclideanDistanceCalculator.METERS_PER_DEGREE)\n",
    "\n",
    "    def init_distance_maps(self, location_list):\n",
    "        for location in location_list:\n",
    "            distance_map = dict()\n",
    "            for other_location in location_list:\n",
    "                distance_map[other_location] = self.calculate_distance(location, other_location)\n",
    "            location.set_distance_map(distance_map)"
   ]
  },
  {
   "cell_type": "markdown",
   "id": "fa63c8fc",
   "metadata": {
    "pycharm": {
     "name": "#%% md\n"
    }
   },
   "source": [
    "A vehicle departs from and return to its depot:"
   ]
  },
  {
   "cell_type": "code",
   "execution_count": 3,
   "id": "6b2d45a1",
   "metadata": {
    "pycharm": {
     "name": "#%%\n"
    }
   },
   "outputs": [],
   "source": [
    "@problem_fact\n",
    "class Depot:\n",
    "    def __init__(self, name, location):\n",
    "        self.name = name\n",
    "        self.location = location\n",
    "\n",
    "    def __str__(self):\n",
    "        return f'Depot {self.name}'"
   ]
  },
  {
   "cell_type": "markdown",
   "id": "6408fb81",
   "metadata": {
    "pycharm": {
     "name": "#%% md\n"
    }
   },
   "source": [
    "A vehicle visits customers to deliever items, which take up some capacity of the vehicle:"
   ]
  },
  {
   "cell_type": "code",
   "execution_count": 4,
   "id": "eee90c52",
   "metadata": {
    "pycharm": {
     "name": "#%%\n"
    }
   },
   "outputs": [],
   "source": [
    "@problem_fact\n",
    "class Customer:\n",
    "    def __init__(self, name, location, demand):\n",
    "        self.name = name\n",
    "        self.location = location\n",
    "        self.demand = demand\n",
    "\n",
    "\n",
    "    def __str__(self):\n",
    "        return f'Customer {self.name}'"
   ]
  },
  {
   "cell_type": "markdown",
   "id": "56eeae5d",
   "metadata": {
    "pycharm": {
     "name": "#%% md\n"
    }
   },
   "source": [
    "---\n",
    "**NOTE**\n",
    "\n",
    "You may have noticed none of the problem fact classes are decorated with `@problem_fact`. That is because they are not referenced directly in constraints, but accessed indirectly via the Vehicle class.\n",
    "\n",
    "---\n",
    "\n",
    "#### Planning Entities\n",
    "\n",
    "In Vehicle Routing, vehicles are the planning entities. Each vehicle has a fixed depot to depart from and return to, and a list of customers to visit which we want to plan. In particular:\n",
    "\n",
    "- A customer is visited by exactly one vehicle\n",
    "- The order of the customer in the list is significant\n",
    "\n",
    "as such, the customer list can be modelled as a planning list variable:"
   ]
  },
  {
   "cell_type": "code",
   "execution_count": 5,
   "id": "0922583a",
   "metadata": {
    "pycharm": {
     "name": "#%%\n"
    }
   },
   "outputs": [],
   "source": [
    "from optapy import planning_entity, planning_list_variable\n",
    "\n",
    "@planning_entity\n",
    "class Vehicle:\n",
    "    def __init__(self, name, capacity, depot, customer_list=None):\n",
    "        self.name = name\n",
    "        self.capacity = capacity\n",
    "        self.depot = depot\n",
    "        if customer_list is None:\n",
    "            self.customer_list = []\n",
    "        else:\n",
    "            self.customer_list = customer_list\n",
    "\n",
    "    @planning_list_variable(Customer, ['customer_range'])\n",
    "    def get_customer_list(self):\n",
    "        return self.customer_list\n",
    "\n",
    "    def set_customer_list(self, customer_list):\n",
    "        self.customer_list = customer_list\n",
    "\n",
    "    def get_route(self):\n",
    "        if len(self.customer_list) == 0:\n",
    "            return []\n",
    "        route = [self.depot.location]\n",
    "        for customer in self.customer_list:\n",
    "            route.append(customer.location)\n",
    "        route.append(self.depot.location)\n",
    "        return route\n",
    "    \n",
    "    def __str__(self):\n",
    "        return f'Vehicle {self.name}'"
   ]
  },
  {
   "cell_type": "markdown",
   "id": "850aac6d",
   "metadata": {
    "pycharm": {
     "name": "#%% md\n"
    }
   },
   "source": [
    "The `@planning_list_variable` decorator tells OptaPy the method is a getter for a planning list variable. It takes two parameters:\n",
    "\n",
    "- The first parameter is the type this planning variable takes.\n",
    "- The second parameter, `value_range_provider_refs`, describes where it gets its values from.\n",
    "  It a list of the id of its value range providers. This is defined later in the `@planning_solution` class.\n",
    "\n",
    "\n",
    "#### The Constraints\n",
    "\n",
    "In vehicle routing, we have one hard constraint: no vehicle can go over its capacity"
   ]
  },
  {
   "cell_type": "code",
   "execution_count": 6,
   "id": "944568dd",
   "metadata": {
    "pycharm": {
     "name": "#%%\n"
    }
   },
   "outputs": [],
   "source": [
    "from optapy.score import HardSoftScore\n",
    "\n",
    "def get_total_demand(vehicle):\n",
    "    total_demand = 0\n",
    "    for customer in vehicle.customer_list:\n",
    "        total_demand += customer.demand\n",
    "    return total_demand\n",
    "\n",
    "def vehicle_capacity(constraint_factory):\n",
    "    return constraint_factory \\\n",
    "        .for_each(Vehicle) \\\n",
    "        .filter(lambda vehicle: get_total_demand(vehicle) > vehicle.capacity) \\\n",
    "        .penalize(\"Over vehicle capacity\", HardSoftScore.ONE_HARD,\n",
    "                  lambda vehicle: int(get_total_demand(vehicle) - vehicle.capacity))"
   ]
  },
  {
   "cell_type": "markdown",
   "id": "b74100cd",
   "metadata": {
    "pycharm": {
     "name": "#%% md\n"
    }
   },
   "source": [
    "The lambda in penalize controls how much to penalize for a violation. We want a vehicle 5 over capacity to be penalized more than a vehicle only 1 over capacity. Hence we penalize by\n",
    "\n",
    "`get_total_demand(vehicle) - vehicle.capacity`\n",
    "\n",
    "which is how much over capacity the vehicle is.\n",
    "\n",
    "We also have one soft constraint: minimize the total distance"
   ]
  },
  {
   "cell_type": "code",
   "execution_count": 7,
   "id": "07da4dc3",
   "metadata": {
    "pycharm": {
     "name": "#%%\n"
    }
   },
   "outputs": [],
   "source": [
    "def get_total_distance_meters(vehicle):\n",
    "    total_distance = 1\n",
    "    last_location = vehicle.depot.location\n",
    "    for customer in vehicle.customer_list:\n",
    "        total_distance += customer.location.get_distance_to(last_location)\n",
    "        last_location = customer.location\n",
    "    if last_location is not vehicle.depot.location:\n",
    "        total_distance += vehicle.depot.location.get_distance_to(last_location)\n",
    "    return total_distance\n",
    "\n",
    "def total_distance(constraint_factory):\n",
    "    return constraint_factory \\\n",
    "        .for_each(Vehicle) \\\n",
    "        .penalize(\"Minimize total distance\", HardSoftScore.ONE_SOFT,\n",
    "                  lambda vehicle: int(get_total_distance_meters(vehicle)))"
   ]
  },
  {
   "cell_type": "markdown",
   "id": "c9e33c42",
   "metadata": {
    "pycharm": {
     "name": "#%% md\n"
    }
   },
   "source": [
    "Every initialized Vehicle is penalized in the constraint, since we want to minimalize total distance.\n",
    "\n",
    "Return a list containing the constraints in a `@constraint_provider` decorated function:"
   ]
  },
  {
   "cell_type": "code",
   "execution_count": 8,
   "id": "98b7d840",
   "metadata": {
    "pycharm": {
     "name": "#%%\n"
    }
   },
   "outputs": [],
   "source": [
    "from optapy import constraint_provider\n",
    "\n",
    "\n",
    "@constraint_provider\n",
    "def vehicle_routing_constraints(constraint_factory):\n",
    "    return [\n",
    "        # Hard constraints\n",
    "        vehicle_capacity(constraint_factory),\n",
    "        \n",
    "        # Soft constraints\n",
    "        total_distance(constraint_factory)\n",
    "    ]"
   ]
  },
  {
   "cell_type": "markdown",
   "id": "429efff0",
   "metadata": {
    "pycharm": {
     "name": "#%% md\n"
    }
   },
   "source": [
    "#### Planning Solution\n",
    "\n",
    "Finally, there is the planning solution. The planning solution stores references to all the problem facts and planning entities that define the problem. Additionally, it also contain the score of the solution. The planning solution class represent both the problem and the solution; as such, a problem can be viewed as an unintialized planning solution.\n",
    "\n",
    "In Vehicle Routing, it need to container the customer list, vehicle list, and the score. The bounds are included for easier visualization of the route:"
   ]
  },
  {
   "cell_type": "code",
   "execution_count": 9,
   "id": "8437e50c",
   "metadata": {
    "pycharm": {
     "name": "#%%\n"
    }
   },
   "outputs": [],
   "source": [
    "from optapy import planning_solution, planning_entity_collection_property, problem_fact_collection_property, \\\n",
    "    value_range_provider, planning_score\n",
    "\n",
    "\n",
    "@planning_solution\n",
    "class VehicleRoutingSolution:\n",
    "    def __init__(self,  name, location_list, depot_list, vehicle_list, customer_list,\n",
    "                 south_west_corner, north_east_corner, score=None):\n",
    "        self.name = name\n",
    "        self.location_list = location_list\n",
    "        self.depot_list = depot_list\n",
    "        self.vehicle_list = vehicle_list\n",
    "        self.customer_list = customer_list\n",
    "        self.south_west_corner = south_west_corner\n",
    "        self.north_east_corner = north_east_corner\n",
    "        self.score = score\n",
    "\n",
    "    @planning_entity_collection_property(Vehicle)\n",
    "    def get_vehicle_list(self):\n",
    "        return self.vehicle_list\n",
    "\n",
    "    @problem_fact_collection_property(Customer)\n",
    "    @value_range_provider('customer_range', value_range_type=list)\n",
    "    def get_customer_list(self):\n",
    "        return self.customer_list\n",
    "    \n",
    "    @problem_fact_collection_property(Location)\n",
    "    def get_location_list(self):\n",
    "        return self.location_list\n",
    "    \n",
    "    @problem_fact_collection_property(Depot)\n",
    "    def get_depot_list(self):\n",
    "        return self.depot_list\n",
    "\n",
    "    @planning_score(HardSoftScore)\n",
    "    def get_score(self):\n",
    "        return self.score\n",
    "\n",
    "    def set_score(self, score):\n",
    "        self.score = score\n",
    "\n",
    "    def get_bounds(self):\n",
    "        return [self.south_west_corner.to_lat_long_tuple(), self.north_east_corner.to_lat_long_tuple()]\n",
    "\n",
    "    def get_distance_meters(self):\n",
    "        return -self.score.getSoftScore() if self.score is not None else 0"
   ]
  },
  {
   "cell_type": "markdown",
   "id": "81082b3c",
   "metadata": {
    "pycharm": {
     "name": "#%% md\n"
    }
   },
   "source": [
    "### Solving\n",
    "\n",
    "Now that we defined our model and constraints, let create an instance of the problem:"
   ]
  },
  {
   "cell_type": "code",
   "execution_count": 10,
   "id": "1032c4c0",
   "metadata": {
    "pycharm": {
     "name": "#%%\n"
    }
   },
   "outputs": [],
   "source": [
    "from demo import DemoDataBuilder\n",
    "\n",
    "problem = DemoDataBuilder.builder(Location, Depot, Customer, Vehicle, VehicleRoutingSolution, \n",
    "                                  EuclideanDistanceCalculator()) \\\n",
    "                                 .set_min_demand(1).set_max_demand(2).set_vehicle_capacity(25) \\\n",
    "                                 .set_customer_count(77).set_vehicle_count(6).set_depot_count(2) \\\n",
    "                                 .set_south_west_corner(Location(43.751466, 11.177210)) \\\n",
    "                                 .set_north_east_corner(Location(43.809291, 11.290195)).build()"
   ]
  },
  {
   "cell_type": "markdown",
   "id": "8ef747f6",
   "metadata": {
    "pycharm": {
     "name": "#%% md\n"
    }
   },
   "source": [
    "and solve it:"
   ]
  },
  {
   "cell_type": "code",
   "execution_count": null,
   "id": "4bf91d5c",
   "metadata": {
    "pycharm": {
     "name": "#%%\n"
    }
   },
   "outputs": [],
   "source": [
    "from optapy import solver_manager_create\n",
    "import optapy.config\n",
    "from optapy.types import Duration\n",
    "from ipyleaflet import Map, CircleMarker, Polyline, basemaps\n",
    "\n",
    "SINGLETON_ID = 1\n",
    "solver_config = optapy.config.solver.SolverConfig()\n",
    "solver_config \\\n",
    "    .withSolutionClass(VehicleRoutingSolution) \\\n",
    "    .withEntityClasses(Vehicle) \\\n",
    "    .withConstraintProviderClass(vehicle_routing_constraints) \\\n",
    "    .withTerminationSpentLimit(Duration.ofSeconds(30))\n",
    "\n",
    "solver_manager = solver_manager_create(solver_config)\n",
    "last_score = HardSoftScore.ZERO\n",
    "\n",
    "vehicle_routing_solution = problem\n",
    "\n",
    "color_index = 0\n",
    "def generate_color():\n",
    "    global color_index\n",
    "    colors =  (\n",
    "      'aqua',\n",
    "      'aquamarine',\n",
    "      'blue',\n",
    "      'blueviolet',\n",
    "      'chocolate',\n",
    "      'cornflowerblue',\n",
    "      'crimson',\n",
    "      'forestgreen',\n",
    "      'gold',\n",
    "      'lawngreen',\n",
    "      'limegreen',\n",
    "      'maroon',\n",
    "      'mediumvioletred',\n",
    "      'orange',\n",
    "      'slateblue',\n",
    "      'tomato'\n",
    "    )\n",
    "    out = colors[color_index]\n",
    "    color_index = (color_index + 1) % len(colors)\n",
    "    return out\n",
    "\n",
    "routing_plan = Map(center=problem.get_bounds()[0], zoom=1.0, basemap=basemaps.OpenStreetMap.Mapnik)\n",
    "\n",
    "\n",
    "vehicle_to_route_dict = dict()\n",
    "customer_to_marker_dict = dict()\n",
    "\n",
    "for customer in problem.customer_list:\n",
    "    marker = CircleMarker(location=customer.location.to_lat_long_tuple(), color='white',\n",
    "                          radius=5)\n",
    "    customer_to_marker_dict[customer.name] = marker\n",
    "    routing_plan.add_layer(marker)\n",
    "    \n",
    "for depot in problem.depot_list:\n",
    "    routing_plan.add_layer(CircleMarker(location=depot.location.to_lat_long_tuple(), color='black',\n",
    "                                        radius=10))\n",
    "\n",
    "\n",
    "for vehicle in problem.vehicle_list:\n",
    "    vehicle_to_route_dict[vehicle.name] = Polyline(\n",
    "        locations=[],\n",
    "        color=generate_color(),\n",
    "        fill=False)\n",
    "    routing_plan.add_layer(vehicle_to_route_dict[vehicle.name])\n",
    "    \n",
    "def update_routes(best_solution):\n",
    "    for vehicle in best_solution.vehicle_list:\n",
    "        route = vehicle_to_route_dict[vehicle.name]\n",
    "        for customer in vehicle.customer_list:\n",
    "            customer_to_marker_dict[customer.name].color = route.color\n",
    "        locations = [vehicle.depot.location.to_lat_long_tuple()]\n",
    "        locations.extend(map(lambda customer: customer.location.to_lat_long_tuple(), vehicle.customer_list))\n",
    "        locations.append(locations[0])\n",
    "        route.locations = locations\n",
    "\n",
    "routing_plan.fit_bounds(problem.get_bounds())\n",
    "solver_manager.solveAndListen(SINGLETON_ID, lambda _: problem, update_routes)\n",
    "routing_plan"
   ]
  },
  {
   "cell_type": "markdown",
   "id": "dfeb1137",
   "metadata": {
    "pycharm": {
     "name": "#%% md\n"
    }
   },
   "source": [
    "The map will automatically update whenever a new best solution is found."
   ]
  }
 ],
 "metadata": {
  "kernelspec": {
   "display_name": "Python 3 (ipykernel)",
   "language": "python",
   "name": "python3"
  },
  "language_info": {
   "codemirror_mode": {
    "name": "ipython",
    "version": 3
   },
   "file_extension": ".py",
   "mimetype": "text/x-python",
   "name": "python",
   "nbconvert_exporter": "python",
   "pygments_lexer": "ipython3",
   "version": "3.9.7"
  }
 },
 "nbformat": 4,
 "nbformat_minor": 5
}
